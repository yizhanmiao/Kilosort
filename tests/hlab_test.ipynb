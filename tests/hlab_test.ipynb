{
 "cells": [
  {
   "cell_type": "code",
   "execution_count": 1,
   "id": "9f88384f",
   "metadata": {},
   "outputs": [],
   "source": [
    "import torch\n",
    "from pathlib import Path\n",
    "import numpy as np\n",
    "from pprint import pprint\n",
    "import sys\n",
    "import kilosort\n",
    "\n",
    "sys.path.append(\"/Users/yizhan/Documents/Research/HirschLab/Toolbox/SpikeSorting/0-Tools\")\n",
    "import hlab_si\n",
    "import probeinterface.plotting as pplot\n"
   ]
  },
  {
   "cell_type": "code",
   "execution_count": 2,
   "id": "fd978b71",
   "metadata": {},
   "outputs": [
    {
     "name": "stdout",
     "output_type": "stream",
     "text": [
      "'kilosort@0.1.0'\n",
      "MPS device ready.\n"
     ]
    }
   ],
   "source": [
    "pprint(f\"kilosort@{kilosort.__version__}\")\n",
    "\n",
    "if torch.backends.mps.is_available():\n",
    "    print (\"MPS device ready.\")\n",
    "else:\n",
    "    print (\"MPS device not found.\")"
   ]
  },
  {
   "cell_type": "code",
   "execution_count": 3,
   "id": "3d7ea1af",
   "metadata": {},
   "outputs": [
    {
     "data": {
      "text/plain": [
       "(<matplotlib.collections.PolyCollection at 0x32a979310>,\n",
       " <matplotlib.collections.PolyCollection at 0x32a97a510>)"
      ]
     },
     "execution_count": 3,
     "metadata": {},
     "output_type": "execute_result"
    },
    {
     "data": {
      "image/png": "[encoded data removed]",
      "text/plain": [
       "<Figure size 640x480 with 1 Axes>"
      ]
     },
     "metadata": {},
     "output_type": "display_data"
    }
   ],
   "source": [
    "args = {\n",
    "    'probe': ['E2_10585', 'P2_2615-2']\n",
    "}\n",
    "\n",
    "_version = f\"{hlab_si.uuidv7()}\"\n",
    "\n",
    "probe_list = [hlab_si.load_hlab_probe(item) for item in args['probe']]\n",
    "probe = hlab_si.group_probe(probe_list)\n",
    "pplot.plot_probe(probe)\n"
   ]
  },
  {
   "cell_type": "code",
   "execution_count": 4,
   "id": "bfdb0347",
   "metadata": {},
   "outputs": [],
   "source": [
    "_setting = {\n",
    "    ## basic\n",
    "    \"fs\": 30000.,\n",
    "    \"n_chan_bin\": probe.get_contact_count(),\n",
    "    # \"tmax\": 3600*5,\n",
    "\n",
    "    ## drift correction\n",
    "    'batch_size': 30000*2,  # second\n",
    "    'nblocks': 5, # set to 0 for no dirft correction from kilosort\n",
    "\n",
    "    ## spike detection\n",
    "    'Th_universal': 9,  # overall detection, default: 9\n",
    "    'Th_learned': 7,  # detection of learned templates, default: 8\n",
    "\n",
    "    ## probe related\n",
    "    # 'dmin': 25,  # vertical spacing\n",
    "    'dminx': 25,  # horizontal spacing ## probe F: 25\n",
    "    'min_template_size': 25,  # the sigma of gaussian spatial envelope in microns\n",
    "    'nearest_chans': 10,  # physical number of channels to generate templates\n",
    "    'nearest_templates': 16,  # parameter for clustering and learning of templates\n",
    "    # 'max_channel_distance': 150,\n",
    "    # 'x_centers': _probe.get_shank_count(),\n",
    "\n",
    "    ## misc\n",
    "    # 'artifacts_threshold': 32000,\n",
    "    # 'artifact_threshold': np.inf,\n",
    "    # 'artifact_threshold': None,  # typemax(Int16) = 32767 typemin(Int16) = -32768,\n",
    "    # 'whitening_range': 10,\n",
    "\n",
    "    'duplicate_spike_ms': 0.5,\n",
    "\n",
    "    # 'acg_threshold': 0.25,\n",
    "    # 'ccg_threshold': 0.30,\n",
    "}\n",
    "\n",
    "_ks_probe = {\n",
    "    'chanMap': probe.device_channel_indices.astype('int32'),\n",
    "    'xc': probe.contact_positions[:, 0].astype(\"float32\"),\n",
    "    'yc': probe.contact_positions[:, 1].astype(\"float32\"),\n",
    "    'kcoords': probe.shank_ids.astype(\"int32\"),\n",
    "    'n_chan': probe.get_contact_count(),\n",
    "}"
   ]
  },
  {
   "cell_type": "code",
   "execution_count": 5,
   "id": "a0e22887",
   "metadata": {},
   "outputs": [],
   "source": [
    "workspace = Path(\"/Users/yizhan/Documents/Research/HirschLab/Toolbox/SpikeSorting/dev/\")\n",
    "data_fpath = workspace / (\"./workspace/2025-07-30-R026/2025-07-30-R026.bin\")\n",
    "if not data_fpath.is_file():\n",
    "    raise(Exception(f\"bin file not found: {data_fpath}\"))\n",
    "\n",
    "output_dir = workspace / (\"./workspace/2025-07-30-R026\") / f'mps-{_version}'\n",
    "if not output_dir.exists():\n",
    "    output_dir.mkdir(parents=True)"
   ]
  },
  {
   "cell_type": "code",
   "execution_count": 6,
   "id": "0226cc33",
   "metadata": {},
   "outputs": [
    {
     "name": "stderr",
     "output_type": "stream",
     "text": [
      "kilosort.run_kilosort: Kilosort version 0.1.0\n",
      "kilosort.run_kilosort: Python version 3.11.13\n",
      "kilosort.run_kilosort: ----------------------------------------\n",
      "kilosort.run_kilosort: System information:\n",
      "kilosort.run_kilosort: macOS-15.6-arm64-arm-64bit arm64\n",
      "kilosort.run_kilosort: arm\n",
      "kilosort.run_kilosort: ----------------------------------------\n",
      "kilosort.run_kilosort: Sorting [PosixPath('/Users/yizhan/Documents/Research/HirschLab/Toolbox/SpikeSorting/dev/workspace/2025-07-30-R026/2025-07-30-R026.bin')]\n",
      "kilosort.run_kilosort: clear_cache=True\n",
      "kilosort.run_kilosort:  \n",
      "kilosort.run_kilosort: Resource usage before sorting\n",
      "kilosort.run_kilosort: ********************************************************\n",
      "kilosort.run_kilosort: CPU usage:     6.40 %\n",
      "kilosort.run_kilosort: Mem used:     63.40 %     |      15.22 GB\n",
      "kilosort.run_kilosort: Mem avail:     8.78 / 24.00 GB\n",
      "kilosort.run_kilosort: ------------------------------------------------------\n",
      "kilosort.run_kilosort: GPU usage:    N/A\n",
      "kilosort.run_kilosort: GPU memory:   N/A\n",
      "kilosort.run_kilosort: ********************************************************\n",
      "kilosort.run_kilosort:  \n",
      "kilosort.run_kilosort: Computing preprocessing variables.\n",
      "kilosort.run_kilosort: ----------------------------------------\n",
      "kilosort.run_kilosort: N samples: 48626176\n",
      "kilosort.run_kilosort: N seconds: 1620.8725333333334\n",
      "kilosort.run_kilosort: N batches: 811\n",
      "/Users/yizhan/Documents/Research/HirschLab/Toolbox/Kilosort/kilosort/preprocessing.py:14: UserWarning: The operator 'aten::linalg_svd' is not currently supported on the MPS backend and will fall back to run on the CPU. This may have performance implications. (Triggered internally at /Users/runner/work/_temp/anaconda/conda-bld/pytorch_1731397169486/work/aten/src/ATen/mps/MPSFallback.mm:13.)\n",
      "  E,D,V =  torch.linalg.svd(CC)\n",
      "kilosort.run_kilosort: Preprocessing filters computed in 0.43s; total 0.44s\n",
      "kilosort.run_kilosort:  \n",
      "kilosort.run_kilosort: Resource usage after preprocessing\n",
      "kilosort.run_kilosort: ********************************************************\n",
      "kilosort.run_kilosort: CPU usage:     4.80 %\n",
      "kilosort.run_kilosort: Mem used:     67.80 %     |      16.26 GB\n",
      "kilosort.run_kilosort: Mem avail:     7.74 / 24.00 GB\n",
      "kilosort.run_kilosort: ------------------------------------------------------\n",
      "kilosort.run_kilosort: GPU usage:    N/A\n",
      "kilosort.run_kilosort: GPU memory:   N/A\n",
      "kilosort.run_kilosort: ********************************************************\n",
      "kilosort.run_kilosort:  \n",
      "kilosort.run_kilosort: Computing drift correction.\n",
      "kilosort.run_kilosort: ----------------------------------------\n",
      "kilosort.spikedetect: Re-computing universal templates from data.\n",
      "kilosort.spikedetect: Number of universal templates: 125\n",
      "kilosort.run_kilosort: Encountered error in `run_kilosort`:\n",
      "Traceback (most recent call last):\n",
      "  File \"/Users/yizhan/Documents/Research/HirschLab/Toolbox/Kilosort/kilosort/run_kilosort.py\", line 270, in _sort\n",
      "    ops, bfile, st0 = compute_drift_correction(\n",
      "                      ^^^^^^^^^^^^^^^^^^^^^^^^^\n",
      "  File \"/Users/yizhan/Documents/Research/HirschLab/Toolbox/Kilosort/kilosort/run_kilosort.py\", line 692, in compute_drift_correction\n",
      "    ops, st = datashift.run(ops, bfile, device=device, progress_bar=progress_bar,\n",
      "              ^^^^^^^^^^^^^^^^^^^^^^^^^^^^^^^^^^^^^^^^^^^^^^^^^^^^^^^^^^^^^^^^^^^\n",
      "  File \"/Users/yizhan/Documents/Research/HirschLab/Toolbox/Kilosort/kilosort/datashift.py\", line 201, in run\n",
      "    st, _, ops  = spikedetect.run(\n",
      "                  ^^^^^^^^^^^^^^^^\n",
      "  File \"/Users/yizhan/Documents/Research/HirschLab/Toolbox/Kilosort/kilosort/spikedetect.py\", line 236, in run\n",
      "    ds_torch = torch.from_numpy(ds).to(device).float()\n",
      "               ^^^^^^^^^^^^^^^^^^^^^^^^^^^^^^^\n",
      "TypeError: Cannot convert a MPS Tensor to float64 dtype as the MPS framework doesn't support float64. Please use float32 instead.\n"
     ]
    },
    {
     "ename": "TypeError",
     "evalue": "Cannot convert a MPS Tensor to float64 dtype as the MPS framework doesn't support float64. Please use float32 instead.",
     "output_type": "error",
     "traceback": [
      "\u001b[31m---------------------------------------------------------------------------\u001b[39m",
      "\u001b[31mTypeError\u001b[39m                                 Traceback (most recent call last)",
      "\u001b[36mCell\u001b[39m\u001b[36m \u001b[39m\u001b[32mIn[6]\u001b[39m\u001b[32m, line 1\u001b[39m\n\u001b[32m----> \u001b[39m\u001b[32m1\u001b[39m rez = \u001b[43mkilosort\u001b[49m\u001b[43m.\u001b[49m\u001b[43mrun_kilosort\u001b[49m\u001b[43m(\u001b[49m\n\u001b[32m      2\u001b[39m \u001b[43m                \u001b[49m\u001b[43msettings\u001b[49m\u001b[43m=\u001b[49m\u001b[43m_setting\u001b[49m\u001b[43m,\u001b[49m\u001b[43m \u001b[49m\u001b[43mprobe\u001b[49m\u001b[43m=\u001b[49m\u001b[43m_ks_probe\u001b[49m\u001b[43m,\u001b[49m\n\u001b[32m      3\u001b[39m \u001b[43m                \u001b[49m\u001b[43mfilename\u001b[49m\u001b[43m=\u001b[49m\u001b[43mdata_fpath\u001b[49m\u001b[43m,\u001b[49m\u001b[43m \u001b[49m\u001b[43mresults_dir\u001b[49m\u001b[43m=\u001b[49m\u001b[43moutput_dir\u001b[49m\u001b[43m,\u001b[49m\n\u001b[32m      4\u001b[39m \u001b[43m                \u001b[49m\u001b[43msave_extra_vars\u001b[49m\u001b[43m=\u001b[49m\u001b[38;5;28;43;01mTrue\u001b[39;49;00m\u001b[43m,\u001b[49m\n\u001b[32m      5\u001b[39m \u001b[43m                \u001b[49m\u001b[43msave_preprocessed_copy\u001b[49m\u001b[43m=\u001b[49m\u001b[38;5;28;43;01mFalse\u001b[39;49;00m\u001b[43m,\u001b[49m\n\u001b[32m      6\u001b[39m \u001b[43m                \u001b[49m\u001b[43mclear_cache\u001b[49m\u001b[43m=\u001b[49m\u001b[38;5;28;43;01mTrue\u001b[39;49;00m\u001b[43m,\u001b[49m\n\u001b[32m      7\u001b[39m \u001b[43m                \u001b[49m\u001b[43mdata_dtype\u001b[49m\u001b[43m=\u001b[49m\u001b[33;43m'\u001b[39;49m\u001b[33;43mint16\u001b[39;49m\u001b[33;43m'\u001b[39;49m\u001b[43m,\u001b[49m\n\u001b[32m      8\u001b[39m \u001b[43m                \u001b[49m\u001b[38;5;66;43;03m# shank_idx = shank_index,\u001b[39;49;00m\n\u001b[32m      9\u001b[39m \u001b[43m                \u001b[49m\u001b[43mshank_idx\u001b[49m\u001b[43m \u001b[49m\u001b[43m=\u001b[49m\u001b[43m \u001b[49m\u001b[38;5;28;43mlist\u001b[39;49m\u001b[43m(\u001b[49m\u001b[38;5;28;43mrange\u001b[39;49m\u001b[43m(\u001b[49m\u001b[43mprobe\u001b[49m\u001b[43m.\u001b[49m\u001b[43mget_shank_count\u001b[49m\u001b[43m(\u001b[49m\u001b[43m)\u001b[49m\u001b[43m)\u001b[49m\u001b[43m)\u001b[49m\u001b[43m,\u001b[49m\n\u001b[32m     10\u001b[39m \u001b[43m                \u001b[49m\u001b[43mdevice\u001b[49m\u001b[43m=\u001b[49m\u001b[43mtorch\u001b[49m\u001b[43m.\u001b[49m\u001b[43mdevice\u001b[49m\u001b[43m(\u001b[49m\u001b[33;43m'\u001b[39;49m\u001b[33;43mmps\u001b[39;49m\u001b[33;43m'\u001b[39;49m\u001b[43m)\u001b[49m\n\u001b[32m     11\u001b[39m \u001b[43m            \u001b[49m\u001b[43m)\u001b[49m\n",
      "\u001b[36mFile \u001b[39m\u001b[32m~/Documents/Research/HirschLab/Toolbox/Kilosort/kilosort/run_kilosort.py:184\u001b[39m, in \u001b[36mrun_kilosort\u001b[39m\u001b[34m(settings, probe, probe_name, filename, data_dir, file_object, results_dir, data_dtype, do_CAR, invert_sign, device, progress_bar, save_extra_vars, clear_cache, save_preprocessed_copy, bad_channels, shank_idx, verbose_console, verbose_log)\u001b[39m\n\u001b[32m    178\u001b[39m     _filename, _data_dir, _results_dir, _probe = \\\n\u001b[32m    179\u001b[39m         set_files(settings, filename, probe, probe_name, data_dir,\n\u001b[32m    180\u001b[39m                   results_dir, bad_channels, idx)\n\u001b[32m    181\u001b[39m     setup_logger(_results_dir, verbose_console=verbose_console)\n\u001b[32m    183\u001b[39m     ops, st, clu, tF, Wall, similar_templates, \\\n\u001b[32m--> \u001b[39m\u001b[32m184\u001b[39m         is_ref, est_contam_rate, kept_spikes = \u001b[43m_sort\u001b[49m\u001b[43m(\u001b[49m\n\u001b[32m    185\u001b[39m \u001b[43m            \u001b[49m\u001b[43m_filename\u001b[49m\u001b[43m,\u001b[49m\u001b[43m \u001b[49m\u001b[43m_results_dir\u001b[49m\u001b[43m,\u001b[49m\u001b[43m \u001b[49m\u001b[43m_probe\u001b[49m\u001b[43m,\u001b[49m\u001b[43m \u001b[49m\u001b[43msettings\u001b[49m\u001b[43m,\u001b[49m\u001b[43m \u001b[49m\u001b[43mdata_dtype\u001b[49m\u001b[43m,\u001b[49m\u001b[43m \u001b[49m\u001b[43mdevice\u001b[49m\u001b[43m,\u001b[49m\n\u001b[32m    186\u001b[39m \u001b[43m            \u001b[49m\u001b[43mdo_CAR\u001b[49m\u001b[43m,\u001b[49m\u001b[43m \u001b[49m\u001b[43mclear_cache\u001b[49m\u001b[43m,\u001b[49m\u001b[43m \u001b[49m\u001b[43minvert_sign\u001b[49m\u001b[43m,\u001b[49m\u001b[43m \u001b[49m\u001b[43msave_preprocessed_copy\u001b[49m\u001b[43m,\u001b[49m\n\u001b[32m    187\u001b[39m \u001b[43m            \u001b[49m\u001b[43mverbose_log\u001b[49m\u001b[43m,\u001b[49m\u001b[43m \u001b[49m\u001b[43msave_extra_vars\u001b[49m\u001b[43m,\u001b[49m\u001b[43m \u001b[49m\u001b[43mfile_object\u001b[49m\u001b[43m,\u001b[49m\u001b[43m \u001b[49m\u001b[43mprogress_bar\u001b[49m\u001b[43m,\u001b[49m\n\u001b[32m    188\u001b[39m \u001b[43m        \u001b[49m\u001b[43m)\u001b[49m\n\u001b[32m    190\u001b[39m \u001b[38;5;28;01mreturn\u001b[39;00m ops, st, clu, tF, Wall, similar_templates, \\\n\u001b[32m    191\u001b[39m        is_ref, est_contam_rate, kept_spikes\n",
      "\u001b[36mFile \u001b[39m\u001b[32m~/Documents/Research/HirschLab/Toolbox/Kilosort/kilosort/run_kilosort.py:270\u001b[39m, in \u001b[36m_sort\u001b[39m\u001b[34m(filename, results_dir, probe, settings, data_dtype, device, do_CAR, clear_cache, invert_sign, save_preprocessed_copy, verbose_log, save_extra_vars, file_object, progress_bar, gui_sorter)\u001b[39m\n\u001b[32m    268\u001b[39m torch.cuda.manual_seed_all(\u001b[32m1\u001b[39m)\n\u001b[32m    269\u001b[39m torch.random.manual_seed(\u001b[32m1\u001b[39m) \n\u001b[32m--> \u001b[39m\u001b[32m270\u001b[39m ops, bfile, st0 = \u001b[43mcompute_drift_correction\u001b[49m\u001b[43m(\u001b[49m\n\u001b[32m    271\u001b[39m \u001b[43m    \u001b[49m\u001b[43mops\u001b[49m\u001b[43m,\u001b[49m\u001b[43m \u001b[49m\u001b[43mdevice\u001b[49m\u001b[43m,\u001b[49m\u001b[43m \u001b[49m\u001b[43mtic0\u001b[49m\u001b[43m=\u001b[49m\u001b[43mtic0\u001b[49m\u001b[43m,\u001b[49m\u001b[43m \u001b[49m\u001b[43mprogress_bar\u001b[49m\u001b[43m=\u001b[49m\u001b[43mprogress_bar\u001b[49m\u001b[43m,\u001b[49m\n\u001b[32m    272\u001b[39m \u001b[43m    \u001b[49m\u001b[43mfile_object\u001b[49m\u001b[43m=\u001b[49m\u001b[43mfile_object\u001b[49m\u001b[43m,\u001b[49m\u001b[43m \u001b[49m\u001b[43mclear_cache\u001b[49m\u001b[43m=\u001b[49m\u001b[43mclear_cache\u001b[49m\u001b[43m,\u001b[49m\n\u001b[32m    273\u001b[39m \u001b[43m    \u001b[49m\u001b[43mverbose\u001b[49m\u001b[43m=\u001b[49m\u001b[43mverbose_log\u001b[49m\n\u001b[32m    274\u001b[39m \u001b[43m    \u001b[49m\u001b[43m)\u001b[49m\n\u001b[32m    276\u001b[39m \u001b[38;5;66;03m# Save preprocessing steps\u001b[39;00m\n\u001b[32m    277\u001b[39m \u001b[38;5;28;01mif\u001b[39;00m save_preprocessed_copy:\n",
      "\u001b[36mFile \u001b[39m\u001b[32m~/Documents/Research/HirschLab/Toolbox/Kilosort/kilosort/run_kilosort.py:692\u001b[39m, in \u001b[36mcompute_drift_correction\u001b[39m\u001b[34m(ops, device, tic0, progress_bar, file_object, clear_cache, verbose)\u001b[39m\n\u001b[32m    683\u001b[39m whiten_mat = ops[\u001b[33m'\u001b[39m\u001b[33mpreprocessing\u001b[39m\u001b[33m'\u001b[39m][\u001b[33m'\u001b[39m\u001b[33mwhiten_mat\u001b[39m\u001b[33m'\u001b[39m]\n\u001b[32m    684\u001b[39m bfile = io.BinaryFiltered(\n\u001b[32m    685\u001b[39m     ops[\u001b[33m'\u001b[39m\u001b[33mfilename\u001b[39m\u001b[33m'\u001b[39m], n_chan_bin, fs, NT, nt, twav_min, chan_map, \n\u001b[32m    686\u001b[39m     hp_filter=hp_filter, whiten_mat=whiten_mat, device=device, do_CAR=do_CAR,\n\u001b[32m   (...)\u001b[39m\u001b[32m    689\u001b[39m     file_object=file_object\n\u001b[32m    690\u001b[39m     )\n\u001b[32m--> \u001b[39m\u001b[32m692\u001b[39m ops, st = \u001b[43mdatashift\u001b[49m\u001b[43m.\u001b[49m\u001b[43mrun\u001b[49m\u001b[43m(\u001b[49m\u001b[43mops\u001b[49m\u001b[43m,\u001b[49m\u001b[43m \u001b[49m\u001b[43mbfile\u001b[49m\u001b[43m,\u001b[49m\u001b[43m \u001b[49m\u001b[43mdevice\u001b[49m\u001b[43m=\u001b[49m\u001b[43mdevice\u001b[49m\u001b[43m,\u001b[49m\u001b[43m \u001b[49m\u001b[43mprogress_bar\u001b[49m\u001b[43m=\u001b[49m\u001b[43mprogress_bar\u001b[49m\u001b[43m,\u001b[49m\n\u001b[32m    693\u001b[39m \u001b[43m                        \u001b[49m\u001b[43mclear_cache\u001b[49m\u001b[43m=\u001b[49m\u001b[43mclear_cache\u001b[49m\u001b[43m,\u001b[49m\u001b[43m \u001b[49m\u001b[43mverbose\u001b[49m\u001b[43m=\u001b[49m\u001b[43mverbose\u001b[49m\u001b[43m)\u001b[49m\n\u001b[32m    695\u001b[39m elapsed = time.time() - tic\n\u001b[32m    696\u001b[39m total = time.time() - tic0\n",
      "\u001b[36mFile \u001b[39m\u001b[32m~/Documents/Research/HirschLab/Toolbox/Kilosort/kilosort/datashift.py:201\u001b[39m, in \u001b[36mrun\u001b[39m\u001b[34m(ops, bfile, device, progress_bar, clear_cache, verbose)\u001b[39m\n\u001b[32m    198\u001b[39m     \u001b[38;5;28;01mreturn\u001b[39;00m ops, \u001b[38;5;28;01mNone\u001b[39;00m\n\u001b[32m    200\u001b[39m \u001b[38;5;66;03m# the first step is to extract all spikes using the universal templates\u001b[39;00m\n\u001b[32m--> \u001b[39m\u001b[32m201\u001b[39m st, _, ops  = \u001b[43mspikedetect\u001b[49m\u001b[43m.\u001b[49m\u001b[43mrun\u001b[49m\u001b[43m(\u001b[49m\n\u001b[32m    202\u001b[39m \u001b[43m    \u001b[49m\u001b[43mops\u001b[49m\u001b[43m,\u001b[49m\u001b[43m \u001b[49m\u001b[43mbfile\u001b[49m\u001b[43m,\u001b[49m\u001b[43m \u001b[49m\u001b[43mdevice\u001b[49m\u001b[43m=\u001b[49m\u001b[43mdevice\u001b[49m\u001b[43m,\u001b[49m\u001b[43m \u001b[49m\u001b[43mprogress_bar\u001b[49m\u001b[43m=\u001b[49m\u001b[43mprogress_bar\u001b[49m\u001b[43m,\u001b[49m\n\u001b[32m    203\u001b[39m \u001b[43m    \u001b[49m\u001b[43mclear_cache\u001b[49m\u001b[43m=\u001b[49m\u001b[43mclear_cache\u001b[49m\u001b[43m,\u001b[49m\u001b[43m \u001b[49m\u001b[43mverbose\u001b[49m\u001b[43m=\u001b[49m\u001b[43mverbose\u001b[49m\n\u001b[32m    204\u001b[39m \u001b[43m    \u001b[49m\u001b[43m)\u001b[49m\n\u001b[32m    206\u001b[39m \u001b[38;5;66;03m# spikes are binned by amplitude and y-position to construct a \"fingerprint\" for each batch\u001b[39;00m\n\u001b[32m    207\u001b[39m F, ysamp = bin_spikes(ops, st)\n",
      "\u001b[36mFile \u001b[39m\u001b[32m~/Documents/Research/HirschLab/Toolbox/Kilosort/kilosort/spikedetect.py:236\u001b[39m, in \u001b[36mrun\u001b[39m\u001b[34m(ops, bfile, device, progress_bar, clear_cache, verbose)\u001b[39m\n\u001b[32m    232\u001b[39m ops[\u001b[33m'\u001b[39m\u001b[33mycup\u001b[39m\u001b[33m'\u001b[39m], ops[\u001b[33m'\u001b[39m\u001b[33mxcup\u001b[39m\u001b[33m'\u001b[39m] = ys, xs\n\u001b[32m    234\u001b[39m iC2, _ = nearest_chans(ys, ys, xs, xs, nC2, device=device)\n\u001b[32m--> \u001b[39m\u001b[32m236\u001b[39m ds_torch = \u001b[43mtorch\u001b[49m\u001b[43m.\u001b[49m\u001b[43mfrom_numpy\u001b[49m\u001b[43m(\u001b[49m\u001b[43mds\u001b[49m\u001b[43m)\u001b[49m\u001b[43m.\u001b[49m\u001b[43mto\u001b[49m\u001b[43m(\u001b[49m\u001b[43mdevice\u001b[49m\u001b[43m)\u001b[49m.float()\n\u001b[32m    237\u001b[39m template_sizes = sig * (\u001b[32m1\u001b[39m+torch.arange(nsizes, device=device))\n\u001b[32m    238\u001b[39m weigh = torch.exp(-ds_torch.unsqueeze(-\u001b[32m1\u001b[39m) / template_sizes**\u001b[32m2\u001b[39m)\n",
      "\u001b[31mTypeError\u001b[39m: Cannot convert a MPS Tensor to float64 dtype as the MPS framework doesn't support float64. Please use float32 instead."
     ]
    }
   ],
   "source": [
    "rez = kilosort.run_kilosort(\n",
    "                settings=_setting, probe=_ks_probe,\n",
    "                filename=data_fpath, results_dir=output_dir,\n",
    "                save_extra_vars=True,\n",
    "                save_preprocessed_copy=False,\n",
    "                clear_cache=True,\n",
    "                data_dtype='int16',\n",
    "                # shank_idx = shank_index,\n",
    "                shank_idx = list(range(probe.get_shank_count())),\n",
    "                device=torch.device('mps')\n",
    "            )"
   ]
  },
  {
   "cell_type": "code",
   "execution_count": 11,
   "id": "e51ef977",
   "metadata": {},
   "outputs": [],
   "source": [
    "import scipy"
   ]
  },
  {
   "cell_type": "code",
   "execution_count": 14,
   "id": "54d0e025",
   "metadata": {},
   "outputs": [],
   "source": [
    "NT = 30122\n",
    "b, a = scipy.signal.butter(3, 300, fs=30_000, btype='high')\n",
    "x = np.zeros(NT)\n",
    "hp_filter = scipy.signal.filtfilt(b, a , x).copy()"
   ]
  },
  {
   "cell_type": "code",
   "execution_count": 16,
   "id": "d80ce8c8",
   "metadata": {},
   "outputs": [
    {
     "data": {
      "text/plain": [
       "array([0., 0., 0., ..., 0., 0., 0.], dtype=float32)"
      ]
     },
     "execution_count": 16,
     "metadata": {},
     "output_type": "execute_result"
    }
   ],
   "source": [
    "hp_filter.astype(\"float32\")"
   ]
  },
  {
   "cell_type": "code",
   "execution_count": null,
   "id": "01122f23",
   "metadata": {},
   "outputs": [],
   "source": []
  }
 ],
 "metadata": {
  "kernelspec": {
   "display_name": "default",
   "language": "python",
   "name": "python3"
  },
  "language_info": {
   "codemirror_mode": {
    "name": "ipython",
    "version": 3
   },
   "file_extension": ".py",
   "mimetype": "text/x-python",
   "name": "python",
   "nbconvert_exporter": "python",
   "pygments_lexer": "ipython3",
   "version": "3.11.13"
  }
 },
 "nbformat": 4,
 "nbformat_minor": 5
}
